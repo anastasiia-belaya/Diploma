{
 "cells": [
  {
   "cell_type": "code",
   "execution_count": 83,
   "metadata": {
    "collapsed": false
   },
   "outputs": [],
   "source": [
    "# Work with vectors\n",
    "import numpy as np\n",
    "\n",
    "# Data \n",
    "import pandas as pd\n",
    "from pandas import Series, DataFrame, concat\n",
    "from pandas.tools.plotting import lag_plot\n",
    "from pandas.tools.plotting import autocorrelation_plot\n",
    "\n",
    "# Plots\n",
    "from matplotlib import pyplot\n",
    "pyplot.style.use('ggplot')\n",
    "\n",
    "# Statistics, models\n",
    "from statsmodels.stats.stattools import durbin_watson as d_w\n",
    "from statsmodels.tsa.ar_model import AR\n",
    "from statsmodels.graphics.tsaplots import plot_acf\n",
    "from statsmodels.tsa.arima_model import ARMA\n",
    "\n",
    "\n",
    "# Sklearn\n",
    "from sklearn.metrics import mean_squared_error"
   ]
  },
  {
   "cell_type": "code",
   "execution_count": 84,
   "metadata": {
    "collapsed": true
   },
   "outputs": [],
   "source": [
    "#####___R^2_____#####\n",
    "\n",
    "def r_square(y_i, y_predictions):\n",
    "    y_avg = np.sum(y_i)/len(y_i)\n",
    "    SSE = np.sum(np.square(np.subtract(y_i,y_predictions)))\n",
    "    SST = np.sum(np.square(np.subtract(y_i,y_avg)))\n",
    "    #print(y_i, np.subtract(y_i, y_avg))\n",
    "    #print('SSt, SSREg ', SST, SSReg)\n",
    "    Rsquared = 1 - SSE/SST \n",
    "    return Rsquared\n",
    "\n",
    "def r_square_print(y_i, y_predictions):\n",
    "    r_squared = r_square(y_i, y_predictions)\n",
    "    print('R^2: %.3f' %r_squared)\n",
    "    return"
   ]
  },
  {
   "cell_type": "code",
   "execution_count": 85,
   "metadata": {
    "collapsed": false
   },
   "outputs": [],
   "source": [
    "################____DW_____#################\n",
    "\n",
    "def durbin_watson(y_i, y_predictions):\n",
    "    dw = d_w(np.subtract(y_i,y_predictions))\n",
    "    return dw\n",
    "\n",
    "def durbin_watson_print(y_i, y_prediction):\n",
    "    dw = durbin_watson(y_i, y_prediction)\n",
    "    print('Durbin-Watson: %.3f' %dw)\n",
    "    return\n",
    "\n",
    "_ = '''y_i_1 = X[prediction_start-1:len(X)-1][::]\n",
    "y_i_dw = X[prediction_start:][::]\n",
    "y_predictions_dw = y_predictions[1:][::]\n",
    "y_1_predictions = y_predictions[0:len(y_predictions)-1][::]\n",
    "\n",
    "print ('y_predictions:', y_predictions, len(y_predictions))\n",
    "\n",
    "print ('y_i_dw:  ', y_i_dw, len(y_i_dw))\n",
    "print ('y_predictions_dw:', y_predictions_dw, len(y_predictions_dw))\n",
    "print ('y_i_1:  ', y_i_1, len (y_i_1))\n",
    "print ('y_1_predictions:', y_1_predictions, len(y_1_predictions))\n",
    "\n",
    "\n",
    "y_i_dw_y_pred = np.subtract(y_i_dw,y_predictions_dw)\n",
    "y_predicted_y = np.subtract(y_i,y_predictions);\n",
    "y_i_1_predicted_y_i_1 = np.subtract(y_i_1,y_1_predictions);\n",
    "print('y_predicted_y__1', y_i_1_predicted_y_i_1)\n",
    "\n",
    "chislitel = np.sum(np.square(np.subtract(np.subtract(y_i_dw,y_predictions_dw),y_i_1_predicted_y_i_1)))\n",
    "znamenatel = np.sum(np.square(np.subtract(y_i,y_predictions)))\n",
    "DW = chislitel/znamenatel\n",
    "print('DW: ', DW)\n",
    "'''"
   ]
  },
  {
   "cell_type": "code",
   "execution_count": 86,
   "metadata": {
    "collapsed": false
   },
   "outputs": [],
   "source": [
    "def mape(a, b): \n",
    "    mask = a != 0\n",
    "    mean_absolute_percentage_error = (np.fabs(a - b)/a)[mask].mean()\n",
    "    return mean_absolute_percentage_error\n",
    "\n",
    "def mape_print(a, b):\n",
    "    mean_absolute_percentage_error = mape(a, b)\n",
    "    print(\"MAPE %.3f\" % (mean_absolute_percentage_error * 100))\n",
    "    return"
   ]
  },
  {
   "cell_type": "code",
   "execution_count": 87,
   "metadata": {
    "collapsed": true
   },
   "outputs": [],
   "source": [
    "################____SSE_____#################\n",
    "def sse(test, predictions):\n",
    "    resids = np.sum(np.square(np.subtract(test, predictions)))\n",
    "    return resids\n",
    "\n",
    "def sse_print(test, predictions):\n",
    "    resids = sse(test, predictions)\n",
    "    print(\"SSE %.3f\" % resids)\n",
    "    return"
   ]
  },
  {
   "cell_type": "code",
   "execution_count": 88,
   "metadata": {
    "collapsed": true
   },
   "outputs": [],
   "source": [
    "################____MSE_____#################\n",
    "def mse(test, predictions):\n",
    "    return sse(test, predictions)/len(test)"
   ]
  },
  {
   "cell_type": "code",
   "execution_count": 89,
   "metadata": {
    "collapsed": true
   },
   "outputs": [],
   "source": [
    "################____RMSE_____#################\n",
    "def rmse(test, predictions):\n",
    "    root_mean_square_error = mse(test, predictions) ** 0.5\n",
    "    return root_mean_square_error\n",
    "\n",
    "def rmse_print(test, predictions):\n",
    "    root_mean_square_error = rmse(test, predictions)\n",
    "    print(\"RMSE %.3f\" % root_mean_square_error)\n",
    "    return\n",
    "    "
   ]
  },
  {
   "cell_type": "code",
   "execution_count": 90,
   "metadata": {
    "collapsed": true
   },
   "outputs": [],
   "source": [
    "###############_____theil inequality coefficient_____############\n",
    "def theil(fact_sample, predicted_sample):\n",
    "    resids = np.sum(np.square(np.subtract(fact_sample, predicted_sample)))\n",
    "    u = (resids/(np.sum(np.square(fact_sample))+np.sum(np.square(predicted_sample)))) ** 0.5\n",
    "    return u\n",
    "\n",
    "def theil_print(fact_sample, predicted_sample):\n",
    "    u = theil(fact_sample, predicted_sample)\n",
    "    print('Theil coefficient %.3f' %u)\n",
    "    return"
   ]
  },
  {
   "cell_type": "code",
   "execution_count": 91,
   "metadata": {
    "collapsed": true
   },
   "outputs": [],
   "source": [
    "#############____________Optimal_criterion_____________################\n",
    "def optimal_criterion(fact_sample, predicted_sample, test, prediction):\n",
    "    criterion = abs(1 - r_square(fact_sample, predicted_sample)) + \\\n",
    "                abs(2 - durbin_watson(fact_sample, predicted_sample)) + \\\n",
    "                abs(1 - abs(10 ** 2 - mape(test, prediction))/ \\\n",
    "                    abs(10 ** 2 + mape(test, prediction)))\n",
    "    m = abs(1 - abs(10 ** 2 - mape(test, prediction))/ \\\n",
    "                    abs(10 ** 2 + mape(test, prediction)))\n",
    "    #print(\"I_m %.3f\" % m)\n",
    "    return criterion\n",
    "\n",
    "def optimal_criterion_print(fact_sample, predicted_sample, test, prediction):\n",
    "    criterion = optimal_criterion(fact_sample, predicted_sample, test, prediction)\n",
    "    print('I %.3f' % criterion)\n",
    "    return"
   ]
  },
  {
   "cell_type": "code",
   "execution_count": 92,
   "metadata": {
    "collapsed": false
   },
   "outputs": [
    {
     "name": "stdout",
     "output_type": "stream",
     "text": [
      "Initial data\n"
     ]
    },
    {
     "data": {
      "image/png": "[encoded data removed]",
      "text/plain": [
       "<matplotlib.figure.Figure at 0x1215acc18>"
      ]
     },
     "metadata": {},
     "output_type": "display_data"
    },
    {
     "name": "stdout",
     "output_type": "stream",
     "text": [
      "           0\n",
      "0    44132.0\n",
      "1    50117.0\n",
      "2    65067.0\n",
      "3    66494.0\n",
      "4    52583.0\n",
      "5    60798.0\n",
      "6    75812.0\n",
      "7    78151.0\n",
      "8    66981.0\n",
      "9    78607.0\n",
      "10   99405.0\n",
      "11  100120.0\n",
      "12   88104.0\n",
      "13  101707.0\n",
      "14  122861.0\n",
      "15  128780.0\n",
      "16  106348.0\n",
      "17  126319.0\n",
      "18  152406.0\n",
      "19  159080.0\n",
      "20  139444.0\n",
      "21  166869.0\n",
      "22  199535.0\n",
      "23  214883.0\n",
      "24  191459.0\n",
      "25  236033.0\n",
      "26  276451.0\n",
      "27  244113.0\n",
      "28  189028.0\n",
      "29  214103.0\n",
      "30  250306.0\n",
      "31  259908.0\n",
      "32  217286.0\n",
      "33  256754.0\n",
      "34  301251.0\n",
      "35  307278.0\n",
      "36  257682.0\n",
      "37  311022.0\n",
      "38  369818.0\n",
      "39  363557.0\n",
      "40  292894.0\n",
      "41  347842.0\n",
      "42  389213.0\n",
      "43  381289.0\n",
      "44  302864.0\n",
      "45  353025.0\n",
      "46  394731.0\n",
      "47  404311.0\n",
      "48  316905.0\n",
      "49  382391.0\n",
      "50  440476.0\n",
      "51  447143.0\n",
      "52  375525.0\n",
      "53  455245.0\n",
      "54  563907.0\n",
      "55  584781.0\n",
      "56  453185.0\n",
      "57  531838.0\n",
      "58  664717.0\n"
     ]
    }
   ],
   "source": [
    "##########______Download_the_file_______########\n",
    "\n",
    "data = pd.read_csv('gdp.csv', header = None)\n",
    "frame = pd.DataFrame(data=data)\n",
    "print(\"Initial data\")\n",
    "frame.plot()\n",
    "pyplot.show()\n",
    "print(frame)"
   ]
  },
  {
   "cell_type": "code",
   "execution_count": 93,
   "metadata": {
    "collapsed": false
   },
   "outputs": [
    {
     "name": "stderr",
     "output_type": "stream",
     "text": [
      "/anaconda/lib/python3.6/site-packages/ipykernel/__main__.py:3: FutureWarning: 'pandas.tools.plotting.lag_plot' is deprecated, import 'pandas.plotting.lag_plot' instead.\n",
      "  app.launch_new_instance()\n"
     ]
    },
    {
     "data": {
      "image/png": "[encoded data removed]",
      "text/plain": [
       "<matplotlib.figure.Figure at 0x1215ac518>"
      ]
     },
     "metadata": {},
     "output_type": "display_data"
    }
   ],
   "source": [
    "##########______Lag_Plot_______###########\n",
    "\n",
    "lag_plot(frame)\n",
    "pyplot.show()"
   ]
  },
  {
   "cell_type": "code",
   "execution_count": 94,
   "metadata": {
    "collapsed": false
   },
   "outputs": [
    {
     "name": "stdout",
     "output_type": "stream",
     "text": [
      "          t-1       t+1\n",
      "t-1  1.000000  0.951468\n",
      "t+1  0.951468  1.000000\n"
     ]
    }
   ],
   "source": [
    "##########______Correlation_matrix_______########\n",
    "\n",
    "dataframe = concat([frame.shift(1), frame], axis=1)\n",
    "dataframe.columns = ['t-1', 't+1']\n",
    "result = dataframe.corr()\n",
    "print(result)"
   ]
  },
  {
   "cell_type": "code",
   "execution_count": 95,
   "metadata": {
    "collapsed": false
   },
   "outputs": [
    {
     "name": "stderr",
     "output_type": "stream",
     "text": [
      "/anaconda/lib/python3.6/site-packages/ipykernel/__main__.py:3: FutureWarning: 'pandas.tools.plotting.autocorrelation_plot' is deprecated, import 'pandas.plotting.autocorrelation_plot' instead.\n",
      "  app.launch_new_instance()\n"
     ]
    },
    {
     "data": {
      "image/png": "[encoded data removed]",
      "text/plain": [
       "<matplotlib.figure.Figure at 0x121b30a90>"
      ]
     },
     "metadata": {},
     "output_type": "display_data"
    }
   ],
   "source": [
    "##########______Swing_in_+_-_correlation_______########\n",
    "\n",
    "autocorrelation_plot(frame)\n",
    "pyplot.show()\n"
   ]
  },
  {
   "cell_type": "code",
   "execution_count": 96,
   "metadata": {
    "collapsed": false
   },
   "outputs": [
    {
     "data": {
      "image/png": "[encoded data removed]",
      "text/plain": [
       "<matplotlib.figure.Figure at 0x120a5fa58>"
      ]
     },
     "metadata": {},
     "output_type": "display_data"
    }
   ],
   "source": [
    "##########______Autocorrelation_plot_classic_______########\n",
    "\n",
    "plot_acf(frame, lags=56)\n",
    "pyplot.show()\n",
    "\n",
    "#from statsmodels.tsa.stattools import acf\n",
    "#acf(frame, nlags=20)\n",
    "#pyplot.show()\n",
    "\n"
   ]
  },
  {
   "cell_type": "code",
   "execution_count": 97,
   "metadata": {
    "collapsed": false
   },
   "outputs": [],
   "source": [
    "# split dataset\n",
    "X = Series.from_csv('gdp-with-dates.csv', header=None).values\n",
    "train, test = X[0:len(X)-3], X[len(X)-3:]"
   ]
  },
  {
   "cell_type": "code",
   "execution_count": 98,
   "metadata": {
    "collapsed": false
   },
   "outputs": [
    {
     "name": "stdout",
     "output_type": "stream",
     "text": [
      "model AR(10):\n",
      "y(k) = 6949 + 1.262 y(k - 1) - 0.430 y(k - 2) - 0.007 y(k - 3) + 0.605 y(k - 4) - 0.666 y(k - 5) - 0.022 y(k - 6) + 0.038 y(k - 7) + 0.564 y(k - 8) - 0.810 y(k - 9) + 0.497 y(k - 10) \n",
      "\n",
      "\n",
      "y_predictions:  [ 101584.8108057   105293.71141287   87274.0186468   103248.52543413\n",
      "  125647.68839262  125729.05865253  115519.08650614  118278.41306576\n",
      "  153879.45819176  156446.47953747  139045.6756836   156647.93352718\n",
      "  197798.99179571  205711.50552679  187785.21983951  214260.61776004\n",
      "  270052.64764397  280799.80611169  194737.89671924  216978.73742903\n",
      "  254850.65165557  237636.95554925  213628.58083935  261271.77567184\n",
      "  309599.27453016  299335.45522174  270745.3569173   301311.66298324\n",
      "  364577.242834    376273.8552161   295427.00723584  336901.43132755\n",
      "  409993.15834553  380058.04530707  303332.75869391  363341.37521996\n",
      "  415503.91867313  386253.68323988  333548.94027251  388197.40423679\n",
      "  445338.40122741  454369.43660319  361876.88485176  455217.5416754\n",
      "  524317.20693387  584823.71205509  481034.91932827  550783.51777216\n",
      "  634028.22740691]\n"
     ]
    },
    {
     "data": {
      "image/png": "[encoded data removed]",
      "text/plain": [
       "<matplotlib.figure.Figure at 0x11fca2908>"
      ]
     },
     "metadata": {},
     "output_type": "display_data"
    },
    {
     "name": "stdout",
     "output_type": "stream",
     "text": [
      "Model statistics:\n",
      "\n",
      "SSE 9094140524.830\n",
      "R^2: 0.990\n",
      "Durbin-Watson: 2.078\n"
     ]
    }
   ],
   "source": [
    "##########_____Static_AR_model_____########\n",
    "\n",
    "# train autoregression\n",
    "model = AR(train)\n",
    "model_fit = model.fit()\n",
    "\n",
    "print('model AR(%s):' % model_fit.k_ar)\n",
    "print ('y(k) = %3.f' %model_fit.params[0], end = \" \")\n",
    "for i in range(1,model_fit.k_ar+1):\n",
    "    if (model_fit.params[i] > 0):\n",
    "        print ('+ %.3f' % model_fit.params[i], 'y(k - %d)' % i, end = \" \")\n",
    "    else:\n",
    "        print ('- %.3f' % abs(model_fit.params[i]),'y(k - %d)' %i, end = \" \")\n",
    "print ('\\n')\n",
    "\n",
    "# make predictions\n",
    "#predictions = model_fit.predict(start=len(train), end=len(train)+len(test)-1, dynamic=False)\n",
    "\n",
    "#print last 3 predicted values of sample\n",
    "#for i in range(len(predictions)):\n",
    "#\tprint('predicted=%f, expected=%f' % (predictions[i], test[i]))\n",
    "\n",
    "prediction_start = len(model_fit.params)\n",
    "y_predictions = model_fit.predict(start=prediction_start - 1, end=len(X) - 1, dynamic=False)\n",
    "\n",
    "predictions = y_predictions[-len(test):][::]\n",
    "\n",
    "print('\\ny_predictions: ', y_predictions)\n",
    "\n",
    "\n",
    "# plot results\n",
    "fig = pyplot.figure()\n",
    "#fig.suptitle('Expected vs predicted values', fontsize=20)\n",
    "#pyplot.xlabel('Quarterly value', fontsize=16)\n",
    "pyplot.ylabel('GDP value', fontsize=16)\n",
    "\n",
    "line_real, = pyplot.plot(test, color='blue', label='real')\n",
    "line_predict, = pyplot.plot(predictions, color='red', linestyle='dashed', label='predicted')\n",
    "pyplot.legend([line_real, line_predict], ['Real', 'Predicted'])\n",
    "pyplot.show()\n",
    "\n",
    "\n",
    "fact_sample = X[prediction_start-1:]\n",
    "predicted_sample = y_predictions\n",
    "\n",
    "print('Model statistics:', end='\\n\\n')\n",
    "_ = sse_print(fact_sample, predicted_sample)\n",
    "_ = r_square_print(fact_sample, predicted_sample)\n",
    "_ = durbin_watson_print(fact_sample, predicted_sample)\n"
   ]
  },
  {
   "cell_type": "code",
   "execution_count": 99,
   "metadata": {
    "collapsed": false
   },
   "outputs": [
    {
     "name": "stdout",
     "output_type": "stream",
     "text": [
      "Prediction statistics: \n",
      "\n",
      "RMSE 26308.119\n",
      "MAPE 4.775\n",
      "Theil coefficient 0.033\n",
      "I 0.089\n"
     ]
    }
   ],
   "source": [
    "print('Prediction statistics: \\n')\n",
    "_ = rmse_print(test, predictions)\n",
    "_ = mape_print(test, predictions)\n",
    "_ = theil_print(test, predictions)\n",
    "_ = optimal_criterion_print(fact_sample, predicted_sample, test, predictions)"
   ]
  },
  {
   "cell_type": "code",
   "execution_count": 100,
   "metadata": {
    "collapsed": false
   },
   "outputs": [
    {
     "name": "stdout",
     "output_type": "stream",
     "text": [
      "Predictions for III qr. 2016 and I qr. 2017 year\n",
      "2\n",
      "0 predicted=634886.494929\n",
      "1 predicted=506782.390986\n"
     ]
    }
   ],
   "source": [
    "####___AR_sforecast_for_3_quarters__###\n",
    "\n",
    "print('Predictions for III qr. 2016 and I qr. 2017 year')\n",
    "#print ('How many steps do you want to predict? ')\n",
    "num_steps = int(input())\n",
    "predictions = model_fit.predict(start=len(model_fit.params) - 1, end=len(X)+num_steps - 1, dynamic=False)\n",
    "predicted_array = predictions[-num_steps:]\n",
    "for i in range(len(predicted_array)):\n",
    "\tprint('%d predicted=%f' %(i, predicted_array[i]))"
   ]
  },
  {
   "cell_type": "code",
   "execution_count": 101,
   "metadata": {
    "collapsed": false
   },
   "outputs": [
    {
     "name": "stdout",
     "output_type": "stream",
     "text": [
      "model AR(10):\n",
      "y(k) = 6949 + 1.262 y(k - 1) - 0.430 y(k - 2) - 0.007 y(k - 3) + 0.605 y(k - 4) - 0.666 y(k - 5) - 0.022 y(k - 6) + 0.038 y(k - 7) + 0.564 y(k - 8) - 0.810 y(k - 9) + 0.497 y(k - 10) \n",
      "\n"
     ]
    },
    {
     "data": {
      "image/png": "[encoded data removed]",
      "text/plain": [
       "<matplotlib.figure.Figure at 0x11c6765c0>"
      ]
     },
     "metadata": {},
     "output_type": "display_data"
    },
    {
     "name": "stdout",
     "output_type": "stream",
     "text": [
      "Model statistics:\n",
      "\n",
      "SSE 40281951793.502\n",
      "R^2: 0.957\n",
      "Durbin-Watson: 0.842\n"
     ]
    }
   ],
   "source": [
    "#########______Dynamic__AR___prediction____###########\n",
    "\n",
    "# split dataset\n",
    "X = Series.from_csv('gdp-with-dates.csv', header=None).values\n",
    "train, test = X[0:len(X)-3], X[len(X)-3:]\n",
    "\n",
    "#print(train)\n",
    "# train autoregression\n",
    "model = AR(train)\n",
    "model_fit = model.fit()\n",
    "\n",
    "print('model AR(%s):' % model_fit.k_ar)\n",
    "print ('y(k) = %3.f' %model_fit.params[0], end = \" \")\n",
    "for i in range(1,model_fit.k_ar+1):\n",
    "    if (model_fit.params[i] > 0):\n",
    "        print ('+ %.3f' % model_fit.params[i], 'y(k - %d)' % i, end = \" \")\n",
    "    else:\n",
    "        print ('- %.3f' % abs(model_fit.params[i]),'y(k - %d)' %i, end = \" \")\n",
    "print ('\\n')\n",
    "\n",
    "window = model_fit.k_ar\n",
    "#prediction_start = model_fit.k_ar\n",
    "coef = model_fit.params\n",
    "# walk forward over time steps in test\n",
    "'''history = train[len(train)-prediction_start:]\n",
    "history = [history[i] for i in range(len(history))]\n",
    "predictions = list()\n",
    "for t in range(len(test)):\n",
    "\tlength = len(history)\n",
    "\tlag = [history[i] for i in range(length-prediction_start,length)]\n",
    "\tyhat = coef[0]\n",
    "\tfor d in range(prediction_start):\n",
    "\t\tyhat += coef[d+1] * lag[prediction_start-d-1]\n",
    "\tobs = test[t]\n",
    "\tpredictions.append(yhat)\n",
    "\thistory.append(obs)\n",
    "\tprint('predicted=%f, expected=%f' % (yhat, obs))\n",
    "'''\n",
    "prediction_start = len(model_fit.params)\n",
    "y_predictions = model_fit.predict(start=prediction_start - 1, end=len(X) - 1, dynamic=True)\n",
    "predictions = y_predictions[-len(test):]\n",
    "    \n",
    "# plot results\n",
    "fig = pyplot.figure()\n",
    "#fig.suptitle('Expected vs predicted values', fontsize=20)\n",
    "#pyplot.xlabel('Quarterly value', fontsize=16)\n",
    "pyplot.ylabel('GDP value', fontsize=16)\n",
    "\n",
    "line_real, = pyplot.plot(test, color='blue', label='real')\n",
    "line_predict, = pyplot.plot(predictions, color='red', linestyle='dashed', label='predicted')\n",
    "pyplot.legend([line_real, line_predict], ['Real', 'Predicted'])\n",
    "pyplot.show()\n",
    "\n",
    "fact_sample = X[prediction_start-1:]\n",
    "predicted_sample = y_predictions\n",
    "\n",
    "# We need to \n",
    "print('Model statistics:', end='\\n\\n')\n",
    "_ = sse_print(fact_sample, predicted_sample)\n",
    "_ = r_square_print(fact_sample, predicted_sample)\n",
    "_ = durbin_watson_print(fact_sample, predicted_sample)\n",
    "#_ = optimal_criterion_print(fact_sample, predicted_sample)"
   ]
  },
  {
   "cell_type": "code",
   "execution_count": 102,
   "metadata": {
    "collapsed": false
   },
   "outputs": [
    {
     "name": "stdout",
     "output_type": "stream",
     "text": [
      "Prediction statistics: \n",
      "RMSE 50703.287\n",
      "MAPE 7.962\n",
      "Theil coefficient 0.066\n",
      "I 1.203\n"
     ]
    }
   ],
   "source": [
    "print('Prediction statistics: ')\n",
    "_ = rmse_print(test, predictions)\n",
    "_ = mape_print(test, predictions)\n",
    "_ = theil_print(test, predictions)\n",
    "_ = optimal_criterion_print(fact_sample, predicted_sample, test, predictions)"
   ]
  },
  {
   "cell_type": "code",
   "execution_count": 103,
   "metadata": {
    "collapsed": false
   },
   "outputs": [
    {
     "name": "stdout",
     "output_type": "stream",
     "text": [
      "Predictions for III qr. 2016 and I qr. 2017 year\n",
      "Dynamic: How many steps do you want to predict? \n",
      "2\n",
      "0 predicted=609060.695507\n",
      "1 predicted=540757.341763\n"
     ]
    }
   ],
   "source": [
    "####___AR_dforecast_for_3_quarters__###\n",
    "\n",
    "print('Predictions for III qr. 2016 and I qr. 2017 year')\n",
    "print ('Dynamic: How many steps do you want to predict? ')\n",
    "num_steps = int(input())\n",
    "predictions = model_fit.predict(start=len(model_fit.params) - 1, end=len(X)+num_steps - 1, dynamic=True)\n",
    "predicted_array = predictions[-num_steps:]\n",
    "for i in range(len(predicted_array)):\n",
    "\tprint('%d predicted=%f' %(i, predicted_array[i]))"
   ]
  },
  {
   "cell_type": "code",
   "execution_count": 104,
   "metadata": {
    "collapsed": false
   },
   "outputs": [
    {
     "name": "stderr",
     "output_type": "stream",
     "text": [
      "/anaconda/lib/python3.6/site-packages/statsmodels/base/model.py:473: HessianInversionWarning: Inverting hessian failed, no bse or cov_params available\n",
      "  'available', HessianInversionWarning)\n"
     ]
    },
    {
     "name": "stdout",
     "output_type": "stream",
     "text": [
      "Best lag 1, best ma 1\n",
      "model AR(1):\n",
      "[  2.36128464e+05   9.67661270e-01   2.58579389e-01]\n",
      "[ 0.25857939]\n",
      "y(k) = 236128 + 0.968 y(k - 1) + 0.259 x (k - 1) \n",
      "\n",
      "0\n",
      "58\n",
      "58\n",
      "predicted=487475.685368, expected=453185.000000\n",
      "predicted=401534.401368, expected=531838.000000\n",
      "predicted=352486.460670, expected=664717.000000\n",
      "Coefficients: [  2.36128464e+05   9.67661270e-01   2.58579389e-01]\n"
     ]
    },
    {
     "data": {
      "image/png": "[encoded data removed]",
      "text/plain": [
       "<matplotlib.figure.Figure at 0x1220261d0>"
      ]
     },
     "metadata": {},
     "output_type": "display_data"
    }
   ],
   "source": [
    "## ______ARMA_______########################\n",
    "\n",
    "# split dataset\n",
    "X = Series.from_csv('gdp-with-dates.csv', header=None).values\n",
    "train, test = X[0:len(X)-3], X[len(X)-3:]\n",
    "\n",
    "y = train.view('float64')\n",
    "y[:] = train\n",
    "\n",
    "best_lag, best_ma = 0, 0\n",
    "best_error = np.inf#10.0 ** 18\n",
    "for lag in range(1, 3):\n",
    "    for ma in range(1, 3):\n",
    "        try:\n",
    "            model = ARMA(y, (lag, ma))\n",
    "            model_fit = model.fit()\n",
    "            predictions = model_fit.predict(start=len(train), end=len(train)+len(test)-1, dynamic=False)\n",
    "            #for i in range(len(predictions)):\n",
    "            #    print('predicted=%f, expected=%f' % (predictions[i], test[i]))\n",
    "            error = mean_squared_error(test, predictions)\n",
    "            #print(\"Lag {0}, Ma {1}\".format(lag, ma))\n",
    "            #print('Test MSE: %.3f' % error)\n",
    "            if best_error > error:\n",
    "                best_error = error\n",
    "                best_lag, best_ma = lag, ma\n",
    "        except Exception as e:\n",
    "            #print(e, end='\\n\\n')\n",
    "            pass\n",
    "        \n",
    "        \n",
    "        \n",
    "print(\"Best lag {0}, best ma {1}\".format(best_lag, best_ma))\n",
    "model = ARMA(y, (best_lag, best_ma))\n",
    "model_fit = model.fit()\n",
    "print('model AR(%s):' % model_fit.k_ar)\n",
    "print(model_fit.params)\n",
    "print(model_fit.maparams)\n",
    "print ('y(k) = %3.f' %model_fit.params[0], end = \" \")\n",
    "\n",
    "for i in range(1, model_fit.k_ar+model_fit.k_ma+1):\n",
    "    if i - model_fit.k_ar <= 0:\n",
    "        if model_fit.params[i] > 0:\n",
    "            print ('+ %.3f' % model_fit.params[i], 'y(k - %d)' % i, end = \" \")\n",
    "        else:\n",
    "            print ('- %.3f' % abs(model_fit.params[i]),'y(k - %d)' %i, end = \" \")\n",
    "    else:\n",
    "        j = i - model_fit.k_ar - 1\n",
    "        if model_fit.maparams[j] < 0:\n",
    "            print('- %.3f' %abs(model_fit.maparams[j]), 'x (k - %d)' % (j + 1), end = \" \")\n",
    "        else:\n",
    "            print('+ %.3f' %model_fit.maparams[j], 'x (k - %d)' % (j + 1), end = \" \")\n",
    "print ('\\n')\n",
    "\n",
    "prediction_start = model_fit.k_ar - 1\n",
    "print(prediction_start)\n",
    "y_predictions = model_fit.predict(start=model_fit.k_ar, end=len(X)-1, dynamic=False)\n",
    "print(len(y_predictions))\n",
    "print(len(X[prediction_start + 1:]))\n",
    "          \n",
    "\n",
    "for i in range(len(predictions)):\n",
    "    print('predicted=%f, expected=%f' % (predictions[i], test[i]))\n",
    "print('Coefficients: %s' % model_fit.params)\n",
    "coef = model_fit.params\n",
    "\n",
    "# plot results\n",
    "fig = pyplot.figure()\n",
    "#fig.suptitle('Expected vs predicted values', fontsize=20)\n",
    "#pyplot.xlabel('Quarterly value', fontsize=16)\n",
    "pyplot.ylabel('GDP value', fontsize=16)\n",
    "\n",
    "line_real, = pyplot.plot(test, color='blue', label='real')\n",
    "line_predict, = pyplot.plot(predictions, color='red', linestyle='dashed', label='predicted')\n",
    "pyplot.legend([line_real, line_predict], ['Real', 'Predicted'])\n",
    "pyplot.show()\n",
    "\n",
    "fact_sample = X[prediction_start + 1:]\n",
    "predicted_sample = y_predictions"
   ]
  },
  {
   "cell_type": "code",
   "execution_count": 105,
   "metadata": {
    "collapsed": false
   },
   "outputs": [
    {
     "name": "stdout",
     "output_type": "stream",
     "text": [
      "Model statistics:\n",
      "\n",
      "SSE 1207791030080264544334082704450737143808.000\n",
      "R^2: 0.004\n",
      "Durbin-Watson: 0.018\n",
      "I 2.983\n"
     ]
    }
   ],
   "source": [
    "print('Model statistics:', end='\\n\\n')\n",
    "_ = sse_print(fact_sample, predicted_sample)\n",
    "_ = r_square_print(fact_sample, predicted_sample)\n",
    "_ = durbin_watson_print(fact_sample, predicted_sample)\n",
    "_ = optimal_criterion_print(fact_sample, predicted_sample, test, predictions)"
   ]
  },
  {
   "cell_type": "code",
   "execution_count": 106,
   "metadata": {
    "collapsed": false
   },
   "outputs": [
    {
     "name": "stdout",
     "output_type": "stream",
     "text": [
      "ARMA Prediction statistics: \n",
      "RMSE 196335.418\n",
      "MAPE 26.346\n",
      "Theil coefficient 0.282\n"
     ]
    }
   ],
   "source": [
    "print('ARMA Prediction statistics: ')\n",
    "_ = rmse_print(test, predictions)\n",
    "_ = mape_print(test, predictions)\n",
    "_ = theil_print(test, predictions)"
   ]
  },
  {
   "cell_type": "code",
   "execution_count": 107,
   "metadata": {
    "collapsed": false
   },
   "outputs": [
    {
     "data": {
      "image/png": "[encoded data removed]",
      "text/plain": [
       "<matplotlib.figure.Figure at 0x120099198>"
      ]
     },
     "metadata": {},
     "output_type": "display_data"
    }
   ],
   "source": [
    "from pandas import Series\n",
    "from matplotlib import pyplot\n",
    "from statsmodels.graphics.tsaplots import plot_pacf\n",
    "series = Series.from_csv('gdp-with-dates.csv', header=None)\n",
    "plot_pacf(series, lags = 59)\n",
    "pyplot.show()"
   ]
  },
  {
   "cell_type": "code",
   "execution_count": 108,
   "metadata": {
    "collapsed": false
   },
   "outputs": [
    {
     "name": "stdout",
     "output_type": "stream",
     "text": [
      "AR(1):\n",
      "[  9.65846027e+03   1.00074643e+00]\n",
      "[  1.37374136e+07   2.76058917e+07   6.85588671e+07   5.57861571e+08\n",
      "   2.19842828e+06   2.81977812e+07   5.44060928e+07   4.36258184e+08\n",
      "   3.67697166e+06   1.22785572e+08   8.13181757e+07   4.73027387e+08\n",
      "   1.50449056e+07   1.30407781e+08   1.46778433e+07   1.03597628e+09\n",
      "   1.04717532e+08   2.66807772e+08   9.59897098e+06   8.65136469e+08\n",
      "   3.11962303e+08   5.23630946e+08   3.06982584e+07   1.10508743e+09\n",
      "   1.20913573e+09   9.35341769e+08   1.78107730e+09   4.21534307e+09\n",
      "   2.33339178e+08   6.96153815e+08   5.91929773e+04   2.75356930e+09\n",
      "   8.78965423e+08   1.20040705e+09   1.48712265e+07   3.53832504e+09\n",
      "   1.89131037e+09   2.39173656e+09   2.62294329e+08   6.49520424e+09\n",
      "   2.03138738e+09   9.89284930e+08   3.19443427e+08   7.80891503e+09\n",
      "   1.62219428e+09   1.01022465e+09   1.39202982e+05   9.48018663e+09\n",
      "   3.09035844e+09   2.31756664e+09   1.10240241e+07   6.66022818e+09\n",
      "   4.86942100e+09   9.73453189e+09   1.16523883e+08   2.00763276e+10\n",
      "   5.34952563e+09   2.46298946e+09]\n"
     ]
    },
    {
     "data": {
      "image/png": "[encoded data removed]",
      "text/plain": [
       "<matplotlib.figure.Figure at 0x12153a4a8>"
      ]
     },
     "metadata": {},
     "output_type": "display_data"
    },
    {
     "name": "stdout",
     "output_type": "stream",
     "text": [
      "ARCH(2)\n",
      "eps^2(k) = 1102055090 + 0.101 eps^2(k - 1) + 0.237 eps^2(k - 2) \n",
      "\n",
      "[  1.10205509e+09   1.01430776e-01   2.37352942e-01]\n",
      "Model statistics:\n",
      "\n",
      "SSE 576763173839826452480.000\n",
      "R^2: 0.113\n",
      "Durbin-Watson: 1.936\n",
      "I 0.970\n",
      "Prediction statistics: \n",
      "RMSE 9873223287.955\n",
      "MAPE 57.168\n",
      "Theil coefficient 0.801\n",
      "\n",
      "\n",
      "ARCH(3)\n",
      "eps^2(k) = 1229837478 + 0.119 eps^2(k - 1) + 0.240 eps^2(k - 2) - 0.104 eps^2(k - 3) \n",
      "\n",
      "[  1.22983748e+09   1.18783899e-01   2.40473340e-01  -1.04227985e-01]\n",
      "Model statistics:\n",
      "\n",
      "SSE 592565117448899919872.000\n",
      "R^2: 0.084\n",
      "Durbin-Watson: 1.812\n",
      "I 1.116\n",
      "Prediction statistics: \n",
      "RMSE 10192122897.201\n",
      "MAPE 63.625\n",
      "Theil coefficient 0.831\n",
      "\n",
      "\n",
      "ARCH(4)\n",
      "eps^2(k) = 187173675 + 0.146 eps^2(k - 1) + 0.135 eps^2(k - 2) - 0.157 eps^2(k - 3) + 0.996 eps^2(k - 4) \n",
      "\n",
      "[  1.87173675e+08   1.46011232e-01   1.34561957e-01  -1.57248007e-01\n",
      "   9.96079675e-01]\n",
      "Model statistics:\n",
      "\n",
      "SSE 331333267251380158464.000\n",
      "R^2: 0.486\n",
      "Durbin-Watson: 1.830\n",
      "I 0.697\n",
      "Prediction statistics: \n",
      "RMSE 9016858952.981\n",
      "MAPE 148.459\n",
      "Theil coefficient 0.614\n",
      "\n",
      "\n",
      "ARCH(5)\n",
      "eps^2(k) = 194008934 + 0.127 eps^2(k - 1) + 0.136 eps^2(k - 2) - 0.157 eps^2(k - 3) + 0.991 eps^2(k - 4) + 0.026 eps^2(k - 5) \n",
      "\n",
      "[  1.94008934e+08   1.27462185e-01   1.36342776e-01  -1.56935277e-01\n",
      "   9.91410920e-01   2.59002921e-02]\n",
      "Model statistics:\n",
      "\n",
      "SSE 331671962115237150720.000\n",
      "R^2: 0.482\n",
      "Durbin-Watson: 1.818\n",
      "I 0.730\n",
      "Prediction statistics: \n",
      "RMSE 9025430903.624\n",
      "MAPE 148.566\n",
      "Theil coefficient 0.615\n",
      "\n",
      "\n"
     ]
    }
   ],
   "source": [
    "###########_______ARCH_________#############\n",
    "X = Series.from_csv('gdp-with-dates.csv', header=None).values\n",
    "train, test = X[0:len(X)-3], X[len(X)-3:]\n",
    "\n",
    "\n",
    "print('AR(1):')\n",
    "model = AR(train)\n",
    "model_fit = model.fit(maxlag=1)\n",
    "print(model_fit.params)\n",
    "start_prediction = model_fit.k_ar\n",
    "\n",
    "y_predictions = model_fit.predict(start=start_prediction, end=len(X) - 1, dynamic=False)\n",
    "\n",
    "fact_sample = X[start_prediction:]\n",
    "predicted_sample = y_predictions\n",
    "\n",
    "resids = np.subtract(fact_sample, predicted_sample)\n",
    "resids_square = np.square(resids)\n",
    "print(resids_square)\n",
    "\n",
    "plot_acf(resids_square, lags=56)\n",
    "pyplot.show()\n",
    "\n",
    "\n",
    "\n",
    "model_order = range(2, 6)\n",
    "for order in model_order:\n",
    "    print('ARCH(%d)' % order)\n",
    "    train, test = resids_square[:-3][::], resids_square[-3:][::]\n",
    "    model = AR(train)\n",
    "    model_fit = model.fit(maxlag=order)\n",
    "    \n",
    "    \n",
    "    print ('eps^2(k) = %3.f' %model_fit.params[0], end = \" \")\n",
    "    for i in range(1, model_fit.k_ar+1):\n",
    "        if (model_fit.params[i] > 0):\n",
    "            print ('+ %.3f' % model_fit.params[i], 'eps^2(k - %d)' % i, end = \" \")\n",
    "        else:\n",
    "            print ('- %.3f' % abs(model_fit.params[i]),'eps^2(k - %d)' %i, end = \" \")\n",
    "    print ('\\n')\n",
    "\n",
    "    \n",
    "    print(model_fit.params)\n",
    "    start_prediction = model_fit.k_ar\n",
    "\n",
    "    y_predictions = model_fit.predict(start=start_prediction, end=len(resids_square) - 1, dynamic=False)\n",
    "\n",
    "    fact_sample = resids_square[start_prediction:][::]\n",
    "    predicted_sample = y_predictions[::]\n",
    "    \n",
    "    print('Model statistics:', end='\\n\\n')\n",
    "    _ = sse_print(fact_sample, predicted_sample)\n",
    "    _ = r_square_print(fact_sample, predicted_sample)\n",
    "    _ = durbin_watson_print(fact_sample, predicted_sample)\n",
    "    _ = optimal_criterion_print(fact_sample, predicted_sample, test, predictions)\n",
    "    \n",
    "    predictions = y_predictions[-3:][::]\n",
    "    print('Prediction statistics: ')\n",
    "    _ = rmse_print(test, predictions)\n",
    "    _ = mape_print(test, predictions)\n",
    "    _ = theil_print(test, predictions)\n",
    "    \n",
    "    \n",
    "    print(\"\\n\")\n",
    "\n"
   ]
  },
  {
   "cell_type": "code",
   "execution_count": 109,
   "metadata": {
    "collapsed": false,
    "scrolled": true
   },
   "outputs": [
    {
     "name": "stdout",
     "output_type": "stream",
     "text": [
      "[41343305.2741713, 49285604.958826154, 154350357.63588384, 119986946.45948905, 117119363.52135053, 98825602.867060125, 117326049.98539607, 110847613.92986168, 126979533.54808003, 116429213.70206077, 130415400.43014453, 127032704.78469552, 137100242.00786236, 127303518.49966545, 168293106.79875162, 172900081.57947829, 187700360.90116593, 177288454.30155313, 201112993.19578022, 215401024.29839459, 237688995.15597805, 229809221.89746955, 259700150.87961712, 307757732.81983703, 336435623.41896683, 386965910.74491918, 512540194.3133834, 507816399.81367451, 520852707.71667027, 503714817.94864768, 564595499.05227029, 581968496.71840787, 606723403.55234337, 588956723.64189732, 663127747.30535853, 705243478.33347464, 755884220.5517658, 741753842.33959675, 878773227.15318489, 914495798.64939523, 919442699.01141393, 903729769.75076044, 1052435082.16134, 1071914398.6304425, 1074296984.6159215, 1051012072.2900866, 1217565269.3342159, 1264972963.6092968, 1291273528.5634503, 1265488395.5738418, 1362821158.7209098, 1437786745.3783433, 1598552095.3265784, 1571147074.385, 1901088768.8620484, 1954613568.8419576, 1969480313.5643761]\n"
     ]
    },
    {
     "data": {
      "image/png": "[encoded data removed]",
      "text/plain": [
       "<matplotlib.figure.Figure at 0x120a934e0>"
      ]
     },
     "metadata": {},
     "output_type": "display_data"
    },
    {
     "data": {
      "image/png": "[encoded data removed]",
      "text/plain": [
       "<matplotlib.figure.Figure at 0x11c6332b0>"
      ]
     },
     "metadata": {},
     "output_type": "display_data"
    }
   ],
   "source": [
    "####GARCH###\n",
    "\n",
    "\n",
    "\n",
    "h_resids = []\n",
    "num_resids = resids.shape[0]\n",
    "resids_sum = resids[0]\n",
    "for k in range(1, num_resids):\n",
    "    resids_sum += resids[k]\n",
    "    resids_average = resids_sum/k\n",
    "    pacf = 0\n",
    "    for i in range(0, k + 1):    \n",
    "        pacf += np.square(resids[i] - resids_average)\n",
    "    h_resids.append(pacf/k)\n",
    "print(h_resids)\n",
    "\n",
    "pyplot.plot(h_resids)\n",
    "pyplot.show()\n",
    "\n",
    "\n",
    "plot_acf(h_resids, lags=56)\n",
    "pyplot.show()\n",
    "\n",
    "#from arch import arch_model \n",
    "\n",
    "#garch = arch_model(resids_square, p = 1, q = 1)\n",
    "#res = garch.fit(update_freq = 10)\n",
    "\n",
    "#print(res.summary().as_text())\n",
    "#print(dir(garch))\n",
    "#regress = garch.regressors\n",
    "\n",
    "\n",
    "#print(garch._y_series, garch._y_original)"
   ]
  },
  {
   "cell_type": "code",
   "execution_count": null,
   "metadata": {
    "collapsed": true
   },
   "outputs": [],
   "source": []
  }
 ],
 "metadata": {
  "kernelspec": {
   "display_name": "Python 3",
   "language": "python",
   "name": "python3"
  },
  "language_info": {
   "codemirror_mode": {
    "name": "ipython",
    "version": 3
   },
   "file_extension": ".py",
   "mimetype": "text/x-python",
   "name": "python",
   "nbconvert_exporter": "python",
   "pygments_lexer": "ipython3",
   "version": "3.6.0"
  }
 },
 "nbformat": 4,
 "nbformat_minor": 2
}
